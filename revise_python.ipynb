{
  "nbformat": 4,
  "nbformat_minor": 0,
  "metadata": {
    "colab": {
      "provenance": [],
      "authorship_tag": "ABX9TyPb8ZuFqbnuy9MqhLme0NX8",
      "include_colab_link": true
    },
    "kernelspec": {
      "name": "python3",
      "display_name": "Python 3"
    },
    "language_info": {
      "name": "python"
    }
  },
  "cells": [
    {
      "cell_type": "markdown",
      "metadata": {
        "id": "view-in-github",
        "colab_type": "text"
      },
      "source": [
        "<a href=\"https://colab.research.google.com/github/haydiadm/pythonPractice/blob/main/revise_python.ipynb\" target=\"_parent\"><img src=\"https://colab.research.google.com/assets/colab-badge.svg\" alt=\"Open In Colab\"/></a>"
      ]
    },
    {
      "cell_type": "code",
      "source": [
        "operations = {\n",
        "  \"1\": \"Addition\",\n",
        "  \"2\": \"Subtraction\",\n",
        "  \"3\": \"Multipication\",\n",
        "  \"4\": \"Division\"\n",
        "}\n",
        "\n",
        "\n",
        "def calculator():\n",
        " if oper == \"1\":\n",
        "  \n",
        "  x , y = get_operands()\n",
        "  result = x + y\n",
        "\n",
        " elif oper == \"2\":\n",
        "  x , y = get_operands()\n",
        "  result = x - y\n",
        "\n",
        " elif oper == \"3\":\n",
        " \n",
        "  x , y = get_operands()\n",
        "  result = x * y\n",
        " elif oper == \"4\":\n",
        "  \n",
        "  x , y = get_operands()\n",
        "  if y == 0 :\n",
        "    result = \"you  cannot devide by 0\"\n",
        "  else :\n",
        "    result = x / y\n",
        " else :\n",
        "  result = 'invalid operator'\n",
        " return result  \n",
        "\n",
        "\n",
        "def get_operands():\n",
        "  operator_Name = operations[oper]\n",
        "  print ('Awesome you have chosen ' + operator_Name)\n",
        "  x = input('Please enter the first number:')\n",
        "  x = int(x)\n",
        "  y = input('Please enter the second number:')\n",
        "  y = int(y)\n",
        "  \n",
        "  return x , y\n",
        "\n",
        "stop = \"no\"  \n",
        "\n",
        "while(stop == \"no\"):\n",
        "  print ('Welcome to my calculator app. It has the following operations that it supports:')\n",
        "  print ('1. Addition')\n",
        "  print ('2. Subtraction')\n",
        "  print ('3. Multiplication')\n",
        "  print ('4. Division')\n",
        "\n",
        "  oper = input('Please enter a number for the kind of operation you want to perform:\\n')\n",
        "\n",
        "  print (calculator()) \n",
        "\n",
        "  stop = input('Do you wanna stop(yes/no):\\n')\n",
        "\n",
        "  \n",
        "\n"
      ],
      "metadata": {
        "colab": {
          "base_uri": "https://localhost:8080/"
        },
        "id": "A09Kknhmjeb4",
        "outputId": "2b2e96e8-f204-4fd0-8046-eeab943fbde3"
      },
      "execution_count": null,
      "outputs": [
        {
          "metadata": {
            "tags": null
          },
          "name": "stdout",
          "output_type": "stream",
          "text": [
            "Welcome to my calculator app. It has the following operations that it supports:\n",
            "1. Addition\n",
            "2. Subtraction\n",
            "3. Multiplication\n",
            "4. Division\n",
            "Awesome you have chosen Division\n",
            "you  cannot devide by 0\n"
          ]
        }
      ]
    }
  ]
}