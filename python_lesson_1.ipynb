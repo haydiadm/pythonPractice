{
  "nbformat": 4,
  "nbformat_minor": 0,
  "metadata": {
    "colab": {
      "provenance": [],
      "authorship_tag": "ABX9TyP2IgQQGElZ+m3jsVCQvm6p",
      "include_colab_link": true
    },
    "kernelspec": {
      "name": "python3",
      "display_name": "Python 3"
    },
    "language_info": {
      "name": "python"
    }
  },
  "cells": [
    {
      "cell_type": "markdown",
      "metadata": {
        "id": "view-in-github",
        "colab_type": "text"
      },
      "source": [
        "<a href=\"https://colab.research.google.com/github/haydiadm/pythonPractice/blob/main/python_lesson_1.ipynb\" target=\"_parent\"><img src=\"https://colab.research.google.com/assets/colab-badge.svg\" alt=\"Open In Colab\"/></a>"
      ]
    },
    {
      "cell_type": "code",
      "execution_count": 39,
      "metadata": {
        "colab": {
          "base_uri": "https://localhost:8080/"
        },
        "id": "j72wwyLkCPsb",
        "outputId": "c09fa778-e7d6-48c9-faa0-b1a6d61d82e9"
      },
      "outputs": [
        {
          "output_type": "stream",
          "name": "stdout",
          "text": [
            "6000.0\n"
          ]
        }
      ],
      "source": [
        "def get_taxes(earnings):\n",
        " if earnings < 12000 :\n",
        "    tax = .25 * earnings\n",
        " else : \n",
        "     tax = .3 * earnings\n",
        " return tax\n",
        "print(get_taxes(20000)) "
      ]
    }
  ]
}