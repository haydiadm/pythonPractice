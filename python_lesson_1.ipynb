{
  "nbformat": 4,
  "nbformat_minor": 0,
  "metadata": {
    "colab": {
      "provenance": [],
      "authorship_tag": "ABX9TyNAjKcnEvWEc9wfLmtmri4I",
      "include_colab_link": true
    },
    "kernelspec": {
      "name": "python3",
      "display_name": "Python 3"
    },
    "language_info": {
      "name": "python"
    }
  },
  "cells": [
    {
      "cell_type": "markdown",
      "metadata": {
        "id": "view-in-github",
        "colab_type": "text"
      },
      "source": [
        "<a href=\"https://colab.research.google.com/github/haydiadm/pythonPractice/blob/main/python_lesson_1.ipynb\" target=\"_parent\"><img src=\"https://colab.research.google.com/assets/colab-badge.svg\" alt=\"Open In Colab\"/></a>"
      ]
    },
    {
      "cell_type": "code",
      "execution_count": 3,
      "metadata": {
        "colab": {
          "base_uri": "https://localhost:8080/"
        },
        "id": "j72wwyLkCPsb",
        "outputId": "edef800b-312c-41c7-bb59-d9a55c8bc67c"
      },
      "outputs": [
        {
          "output_type": "stream",
          "name": "stdout",
          "text": [
            "F\n"
          ]
        }
      ],
      "source": [
        "def get_grade(score):\n",
        "  if 90 <= score <= 100 :\n",
        "       score =  \"A\"\n",
        "  elif 80<= score <= 89 : \n",
        "       score = \"B\"\n",
        "  elif 70 <= score <= 79:\n",
        "       score = \"C\"\n",
        "  elif   60<= score <= 69 :\n",
        "       score = \"D\"\n",
        "  elif score < 60:\n",
        "       score = \"F\"\n",
        "  return score \n",
        "print(get_grade(45))       "
      ]
    },
    {
      "cell_type": "code",
      "source": [],
      "metadata": {
        "id": "GFnYS3BCzGgl"
      },
      "execution_count": null,
      "outputs": []
    }
  ]
}