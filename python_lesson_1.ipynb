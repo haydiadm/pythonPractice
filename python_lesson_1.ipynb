{
  "nbformat": 4,
  "nbformat_minor": 0,
  "metadata": {
    "colab": {
      "provenance": [],
      "authorship_tag": "ABX9TyMMjvzotLy0KV7ojYCQJD4C",
      "include_colab_link": true
    },
    "kernelspec": {
      "name": "python3",
      "display_name": "Python 3"
    },
    "language_info": {
      "name": "python"
    }
  },
  "cells": [
    {
      "cell_type": "markdown",
      "metadata": {
        "id": "view-in-github",
        "colab_type": "text"
      },
      "source": [
        "<a href=\"https://colab.research.google.com/github/haydiadm/pythonPractice/blob/main/python_lesson_1.ipynb\" target=\"_parent\"><img src=\"https://colab.research.google.com/assets/colab-badge.svg\" alt=\"Open In Colab\"/></a>"
      ]
    },
    {
      "cell_type": "code",
      "execution_count": 41,
      "metadata": {
        "colab": {
          "base_uri": "https://localhost:8080/"
        },
        "id": "j72wwyLkCPsb",
        "outputId": "64157a5e-c166-4bfe-9ef2-0db5226d1b85"
      },
      "outputs": [
        {
          "output_type": "stream",
          "name": "stdout",
          "text": [
            "9000.0\n",
            "2500.0\n"
          ]
        }
      ],
      "source": [
        "def get_taxes(earnings):\n",
        " if earnings < 12000 :\n",
        "    tax = .25 * earnings\n",
        " else : \n",
        "     tax = .3 * earnings\n",
        " return tax\n",
        "houda_tax = get_taxes(30000)\n",
        "adem_tax = get_taxes(10000)\n",
        "print(houda_tax)\n",
        "print(adem_tax)"
      ]
    }
  ]
}