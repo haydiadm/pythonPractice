{
  "nbformat": 4,
  "nbformat_minor": 0,
  "metadata": {
    "colab": {
      "provenance": [],
      "authorship_tag": "ABX9TyNQwxDLw9o7yqvcf5dd0d59",
      "include_colab_link": true
    },
    "kernelspec": {
      "name": "python3",
      "display_name": "Python 3"
    },
    "language_info": {
      "name": "python"
    }
  },
  "cells": [
    {
      "cell_type": "markdown",
      "metadata": {
        "id": "view-in-github",
        "colab_type": "text"
      },
      "source": [
        "<a href=\"https://colab.research.google.com/github/haydiadm/pythonPractice/blob/main/Untitled.ipynb\" target=\"_parent\"><img src=\"https://colab.research.google.com/assets/colab-badge.svg\" alt=\"Open In Colab\"/></a>"
      ]
    },
    {
      "cell_type": "code",
      "execution_count": 2,
      "metadata": {
        "colab": {
          "base_uri": "https://localhost:8080/"
        },
        "id": "0DULt3mL3Pod",
        "outputId": "dc5300cd-e7c3-4614-a4e4-aa8d8515f2fb"
      },
      "outputs": [
        {
          "output_type": "stream",
          "name": "stdout",
          "text": [
            "150.85714285714286\n",
            "157.0\n",
            "174\n",
            "126\n"
          ]
        }
      ],
      "source": [
        "num_customers = [137, 147, 135, 128, 170, 174, 165, 146, 126, 159,\n",
        "                 141, 148, 132, 147, 168, 153, 170, 161, 148, 152,\n",
        "                 141, 151, 131, 149, 164, 163, 143, 143, 166, 171]\n",
        "avr_first_seven = sum(num_customers[:7])/7\n",
        "print(avr_first_seven)\n",
        "avr_last_seven=sum(num_customers[-7:])/7\n",
        "print(avr_last_seven)\n",
        "max_month = max(num_customers)\n",
        "print(max_month)\n",
        "min_month = min(num_customers)\n",
        "print(min_month)\n"
      ]
    }
  ]
}