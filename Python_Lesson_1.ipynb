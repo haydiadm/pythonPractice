{
  "nbformat": 4,
  "nbformat_minor": 0,
  "metadata": {
    "colab": {
      "provenance": [],
      "authorship_tag": "ABX9TyOF/lgfhtsypms/tUjpUQc0",
      "include_colab_link": true
    },
    "kernelspec": {
      "name": "python3",
      "display_name": "Python 3"
    },
    "language_info": {
      "name": "python"
    }
  },
  "cells": [
    {
      "cell_type": "markdown",
      "metadata": {
        "id": "view-in-github",
        "colab_type": "text"
      },
      "source": [
        "<a href=\"https://colab.research.google.com/github/haydiadm/pythonPractice/blob/main/Python_Lesson_1.ipynb\" target=\"_parent\"><img src=\"https://colab.research.google.com/assets/colab-badge.svg\" alt=\"Open In Colab\"/></a>"
      ]
    },
    {
      "cell_type": "code",
      "execution_count": 2,
      "metadata": {
        "colab": {
          "base_uri": "https://localhost:8080/"
        },
        "id": "j72wwyLkCPsb",
        "outputId": "508d0ab9-ad8e-4756-f715-12e6ed411e77"
      },
      "outputs": [
        {
          "output_type": "stream",
          "name": "stdout",
          "text": [
            "35.0\n"
          ]
        }
      ],
      "source": [
        "def get_water_bill(num_gallons):\n",
        "    if num_gallons <=8000:\n",
        "      bill = 5 * num_gallons/1000\n",
        "    if num_gallons <= 22000:\n",
        "       bill = 6 * num_gallons/1000\n",
        "    if num_gallons <= 30000:\n",
        "       bill = 7 * num_gallons/1000\n",
        "    if num_gallons >30000 :\n",
        "       bill = 10 * num_gallons/1000\n",
        "    return bill    \n",
        "print(get_water_bill(5000))    \n"
      ]
    }
  ]
}