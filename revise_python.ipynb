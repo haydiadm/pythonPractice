{
  "nbformat": 4,
  "nbformat_minor": 0,
  "metadata": {
    "colab": {
      "provenance": [],
      "authorship_tag": "ABX9TyNDa5LV8rx5JEjL9FIiuM2j",
      "include_colab_link": true
    },
    "kernelspec": {
      "name": "python3",
      "display_name": "Python 3"
    },
    "language_info": {
      "name": "python"
    }
  },
  "cells": [
    {
      "cell_type": "markdown",
      "metadata": {
        "id": "view-in-github",
        "colab_type": "text"
      },
      "source": [
        "<a href=\"https://colab.research.google.com/github/haydiadm/pythonPractice/blob/main/revise_python.ipynb\" target=\"_parent\"><img src=\"https://colab.research.google.com/assets/colab-badge.svg\" alt=\"Open In Colab\"/></a>"
      ]
    },
    {
      "cell_type": "code",
      "source": [
        "print ('Welcome to my calculator app. It has the following operations that it supports:')\n",
        "print ('1. Addition')\n",
        "print ('2. Subtraction')\n",
        "print ('3. Multiplication')\n",
        "print ('4. Division')\n",
        "\n",
        "oper = input('Please enter a number for the kind of operation you want to perform:\\n')\n",
        "oper = int(oper)\n",
        "def calculator():\n",
        " if oper == 1:\n",
        "  print ('Awesome you have chosen addition:')\n",
        "  x = input('Please enter the first number:\\f')\n",
        "  x = int(x)\n",
        "  y = input('Please enter the second number:\\l')\n",
        "  y = int(y)\n",
        "  result = x + y\n",
        "\n",
        " elif oper == 2:\n",
        "  print ('Awesome you have chosen Substraction:')\n",
        "  x = input('Please enter the first number:\\f')\n",
        "  x = int(x)\n",
        "  y = input('Please enter the second number:\\l')\n",
        "  y = int(y)\n",
        "  result = x - y\n",
        "\n",
        " elif oper == 3:\n",
        "  print ('Awesome you have chosen Multiplication:')\n",
        "  x = input('Please enter the first number:\\f')\n",
        "  x = int(x)\n",
        "  y = input('Please enter the second number:\\l')\n",
        "  y = int(y)\n",
        "  result = x * y\n",
        " elif oper == 4:\n",
        "  print ('Awesome you have chosen Division:')\n",
        "  x = input('Please enter the first number:\\f')\n",
        "  x = int(x)\n",
        "  y = input('Please enter the second number:\\l')\n",
        "  y = int(y)\n",
        "  result = x / y\n",
        " return result  \n",
        "print (calculator()) \n",
        " \n",
        " \n",
        "\n"
      ],
      "metadata": {
        "colab": {
          "base_uri": "https://localhost:8080/"
        },
        "id": "A09Kknhmjeb4",
        "outputId": "f7278154-2fa6-4a8c-c491-f3f98d029de2"
      },
      "execution_count": 27,
      "outputs": [
        {
          "output_type": "stream",
          "name": "stdout",
          "text": [
            "Welcome to my calculator app. It has the following operations that it supports:\n",
            "1. Addition\n",
            "2. Subtraction\n",
            "3. Multiplication\n",
            "4. Division\n",
            "Please enter a number for the kind of operation you want to perform:\n",
            "2\n",
            "Awesome you have chosen Substraction:\n",
            "Please enter the first number:\f5\n",
            "Please enter the second number:\\l2\n",
            "3\n"
          ]
        }
      ]
    }
  ]
}