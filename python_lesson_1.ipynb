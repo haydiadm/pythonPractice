{
  "nbformat": 4,
  "nbformat_minor": 0,
  "metadata": {
    "colab": {
      "provenance": [],
      "authorship_tag": "ABX9TyNkE2GPUFNq6NZ7PU1+kIJY",
      "include_colab_link": true
    },
    "kernelspec": {
      "name": "python3",
      "display_name": "Python 3"
    },
    "language_info": {
      "name": "python"
    }
  },
  "cells": [
    {
      "cell_type": "markdown",
      "metadata": {
        "id": "view-in-github",
        "colab_type": "text"
      },
      "source": [
        "<a href=\"https://colab.research.google.com/github/haydiadm/pythonPractice/blob/main/python_lesson_1.ipynb\" target=\"_parent\"><img src=\"https://colab.research.google.com/assets/colab-badge.svg\" alt=\"Open In Colab\"/></a>"
      ]
    },
    {
      "cell_type": "code",
      "execution_count": null,
      "metadata": {
        "colab": {
          "base_uri": "https://localhost:8080/"
        },
        "id": "j72wwyLkCPsb",
        "outputId": "eea87aa3-7ded-463f-e9d4-6a816a6dc892"
      },
      "outputs": [
        {
          "output_type": "stream",
          "name": "stdout",
          "text": [
            "guess the number2\n",
            "guess the number2\n",
            "guess the number5\n",
            "hurray!!\n",
            "you gussed the number 5\n"
          ]
        }
      ],
      "source": [
        "\n",
        "import random2\n",
        "number = random2.randint(1,10)\n",
        "for i in range(0,3):\n",
        "  user = int(input(\"guess the number\"))\n",
        "  if user == number:\n",
        "    print(\"hurray!!\")\n",
        "    print(f\"you gussed the number {number}\")\n",
        "    break\n",
        "    \n",
        "    if user != number:\n",
        "      print(f\"your guess is false the number is {number}\")\n"
      ]
    }
  ]
}